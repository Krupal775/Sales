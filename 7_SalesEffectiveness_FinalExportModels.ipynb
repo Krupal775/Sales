{
 "cells": [
  {
   "cell_type": "code",
   "execution_count": 90,
   "metadata": {},
   "outputs": [],
   "source": [
    "import pandas as pd\n",
    "import numpy as np\n",
    "import researchpy as rp\n",
    "from scipy import stats\n",
    "\n",
    "import matplotlib.pyplot as plt\n",
    "from matplotlib import rcParams\n",
    "import seaborn as sb"
   ]
  },
  {
   "cell_type": "code",
   "execution_count": 91,
   "metadata": {},
   "outputs": [],
   "source": [
    "#  Find no. of factors in y\n",
    "from collections import Counter\n",
    "# label encoding\n",
    "from sklearn.preprocessing import LabelEncoder, StandardScaler\n",
    "#from sklearn.decomposition import PCA"
   ]
  },
  {
   "cell_type": "code",
   "execution_count": 92,
   "metadata": {},
   "outputs": [],
   "source": [
    "# Import All classifcation Algorithms\n",
    "from xgboost import XGBClassifier"
   ]
  },
  {
   "cell_type": "code",
   "execution_count": 93,
   "metadata": {},
   "outputs": [],
   "source": [
    "from sklearn.model_selection import train_test_split"
   ]
  },
  {
   "cell_type": "code",
   "execution_count": 94,
   "metadata": {},
   "outputs": [],
   "source": [
    "# Metrics selection\n",
    "from sklearn.metrics import  accuracy_score, confusion_matrix,classification_report"
   ]
  },
  {
   "cell_type": "code",
   "execution_count": 95,
   "metadata": {},
   "outputs": [],
   "source": [
    "from sklearn.externals import joblib"
   ]
  },
  {
   "cell_type": "markdown",
   "metadata": {},
   "source": [
    "# Import the data files"
   ]
  },
  {
   "cell_type": "code",
   "execution_count": 96,
   "metadata": {},
   "outputs": [
    {
     "name": "stdout",
     "output_type": "stream",
     "text": [
      "(6574, 6)\n"
     ]
    }
   ],
   "source": [
    "# read data file\n",
    "df1 = pd.read_csv('2_SalesEffect_Cleaned_Encoded.csv')\n",
    "print(df1.shape)"
   ]
  },
  {
   "cell_type": "code",
   "execution_count": 97,
   "metadata": {},
   "outputs": [
    {
     "name": "stdout",
     "output_type": "stream",
     "text": [
      "(6574, 5)\n",
      "Counter({0: 3727, 1: 1350, 3: 852, 2: 645})\n"
     ]
    }
   ],
   "source": [
    "# Assign variables\n",
    "X1 = df1.iloc[:,:-1]\n",
    "y1 = pd.DataFrame(df1.y_Status)\n",
    "\n",
    "print(X1.shape)\n",
    "print(Counter(df1.y_Status))"
   ]
  },
  {
   "cell_type": "code",
   "execution_count": 98,
   "metadata": {},
   "outputs": [],
   "source": [
    "# Split 60:40\n",
    "split_seed = 10\n",
    "X1_train, X1_test, y1_train, y1_test = train_test_split(X1,y1,random_state=split_seed, test_size=.40)"
   ]
  },
  {
   "cell_type": "code",
   "execution_count": 99,
   "metadata": {},
   "outputs": [],
   "source": [
    "# Create Column Lists\n",
    "# Create All lists\n",
    "AllColumns = ['c_Product_ID', 'c_Source','c_Sales_Agent', \n",
    "              'c_Location', 'c_Delivery_Mode', 'y_Status']\n",
    "\n",
    "# No Continuous Columns\n",
    "ConVarList=[]\n",
    "\n",
    "CatVarList = ['c_Product_ID', 'c_Source','c_Sales_Agent', \n",
    "              'c_Location', 'c_Delivery_Mode']\n",
    "\n",
    "OutcomeVar=['y_Status']\n"
   ]
  },
  {
   "cell_type": "code",
   "execution_count": 100,
   "metadata": {},
   "outputs": [
    {
     "name": "stderr",
     "output_type": "stream",
     "text": [
      "E:\\Anaconda3\\lib\\site-packages\\sklearn\\preprocessing\\label.py:219: DataConversionWarning: A column-vector y was passed when a 1d array was expected. Please change the shape of y to (n_samples, ), for example using ravel().\n",
      "  y = column_or_1d(y, warn=True)\n",
      "E:\\Anaconda3\\lib\\site-packages\\sklearn\\preprocessing\\label.py:252: DataConversionWarning: A column-vector y was passed when a 1d array was expected. Please change the shape of y to (n_samples, ), for example using ravel().\n",
      "  y = column_or_1d(y, warn=True)\n"
     ]
    },
    {
     "data": {
      "text/plain": [
       "XGBClassifier(base_score=0.5, booster='gbtree', colsample_bylevel=1,\n",
       "       colsample_bytree=0.7, gamma=0.1, learning_rate=0.05,\n",
       "       max_delta_step=0, max_depth=5, min_child_weight=2, missing=None,\n",
       "       n_estimators=100, n_jobs=1, nthread=None,\n",
       "       objective='multi:softprob', random_state=155, reg_alpha=0,\n",
       "       reg_lambda=1, scale_pos_weight=1, scoring='accuracy', seed=None,\n",
       "       silent=True, subsample=1)"
      ]
     },
     "execution_count": 100,
     "metadata": {},
     "output_type": "execute_result"
    }
   ],
   "source": [
    "model = XGBClassifier(booster='gbtree',\n",
    "                      random_state=155,\n",
    "                      learning_rate=0.05,\n",
    "                      max_depth=5,\n",
    "                      min_child_weight=2,\n",
    "                      gamma = 0.1,\n",
    "                      colsample_bytree=0.7,\n",
    "                      scoring='accuracy'\n",
    "                     )\n",
    "model.fit(X1_train, y1_train)"
   ]
  },
  {
   "cell_type": "code",
   "execution_count": 101,
   "metadata": {},
   "outputs": [
    {
     "name": "stdout",
     "output_type": "stream",
     "text": [
      "[[1343  108   14   26]\n",
      " [ 305  205    1   28]\n",
      " [ 171   47   19   11]\n",
      " [ 189   69    8   86]]\n",
      "62.849999999999994\n",
      "              precision    recall  f1-score   support\n",
      "\n",
      "           0       0.67      0.90      0.77      1491\n",
      "           1       0.48      0.38      0.42       539\n",
      "           2       0.45      0.08      0.13       248\n",
      "           3       0.57      0.24      0.34       352\n",
      "\n",
      "   micro avg       0.63      0.63      0.63      2630\n",
      "   macro avg       0.54      0.40      0.42      2630\n",
      "weighted avg       0.60      0.63      0.58      2630\n",
      "\n"
     ]
    },
    {
     "data": {
      "text/plain": [
       "Counter({1: 811, 0: 2236, 3: 500, 2: 397})"
      ]
     },
     "execution_count": 101,
     "metadata": {},
     "output_type": "execute_result"
    }
   ],
   "source": [
    "# Results\n",
    "y1_predict = model.predict(X1_test)\n",
    "print(confusion_matrix(y1_test,y1_predict))\n",
    "print(accuracy_score(y1_test,y1_predict).round(4)*100)\n",
    "print(classification_report(y1_test,y1_predict))\n",
    "Counter(y1_train.y_Status)"
   ]
  },
  {
   "cell_type": "code",
   "execution_count": 102,
   "metadata": {},
   "outputs": [
    {
     "data": {
      "text/plain": [
       "<matplotlib.axes._subplots.AxesSubplot at 0x14a9a2a95c0>"
      ]
     },
     "execution_count": 102,
     "metadata": {},
     "output_type": "execute_result"
    },
    {
     "data": {
      "image/png": "[encoded data removed]",
      "text/plain": [
       "<Figure size 720x360 with 1 Axes>"
      ]
     },
     "metadata": {
      "needs_background": "light"
     },
     "output_type": "display_data"
    }
   ],
   "source": [
    "FeatureImportance1 = pd.DataFrame({'Feature':CatVarList,'Importance':model.feature_importances_*100})\n",
    "\n",
    "FeatureImportance1 = FeatureImportance1.sort_values(by='Importance', axis=0, ascending=False)\n",
    "\n",
    "\n",
    "FeatureImportance1.plot(x='Feature',\n",
    "            y='Importance',\n",
    "            kind='bar',\n",
    "            grid=True,\n",
    "            title=\"Feature Vs Influence on Model\",\n",
    "            legend = True,\n",
    "            figsize = (10,5)\n",
    "            )"
   ]
  },
  {
   "cell_type": "code",
   "execution_count": null,
   "metadata": {},
   "outputs": [],
   "source": [
    "# Dump the churn Model\n",
    "joblib.dump(model,'SalesEffectivenessTrainedModel1.ml')"
   ]
  },
  {
   "cell_type": "markdown",
   "metadata": {},
   "source": [
    "# Try Smoting"
   ]
  },
  {
   "cell_type": "code",
   "execution_count": 87,
   "metadata": {},
   "outputs": [
    {
     "name": "stdout",
     "output_type": "stream",
     "text": [
      "Counter({0: 2236, 1: 811, 3: 500, 2: 397})\n",
      "Counter({1: 2236, 0: 2236, 3: 2236, 2: 2236})\n"
     ]
    },
    {
     "name": "stderr",
     "output_type": "stream",
     "text": [
      "E:\\Anaconda3\\lib\\site-packages\\sklearn\\utils\\validation.py:761: DataConversionWarning: A column-vector y was passed when a 1d array was expected. Please change the shape of y to (n_samples, ), for example using ravel().\n",
      "  y = column_or_1d(y, warn=True)\n"
     ]
    }
   ],
   "source": [
    "split_seed = 10\n",
    "X1_train, X1_test, y1_train, y1_test = train_test_split(X1,y1,random_state=split_seed, test_size=.40)\n",
    "from imblearn.over_sampling import SMOTE\n",
    "smote = SMOTE()\n",
    "\n",
    "X1_train_smote, y1_train_smote = smote.fit_sample(X1_train,y1_train)\n",
    "\n",
    "X1_train_smote = pd.DataFrame(X1_train_smote,columns=CatVarList)\n",
    "\n",
    "print(Counter(y1_train.y_Status))\n",
    "print(Counter(y1_train_smote))"
   ]
  },
  {
   "cell_type": "code",
   "execution_count": 88,
   "metadata": {},
   "outputs": [
    {
     "data": {
      "text/plain": [
       "XGBClassifier(base_score=0.5, booster='gbtree', colsample_bylevel=1,\n",
       "       colsample_bytree=0.7, gamma=0.1, learning_rate=0.05,\n",
       "       max_delta_step=0, max_depth=5, min_child_weight=2, missing=None,\n",
       "       n_estimators=100, n_jobs=1, nthread=None,\n",
       "       objective='multi:softprob', random_state=155, reg_alpha=0,\n",
       "       reg_lambda=1, scale_pos_weight=1, scoring='accuracy', seed=None,\n",
       "       silent=True, subsample=1)"
      ]
     },
     "execution_count": 88,
     "metadata": {},
     "output_type": "execute_result"
    }
   ],
   "source": [
    "model = XGBClassifier(booster='gbtree',\n",
    "                      random_state=155,\n",
    "                      learning_rate=0.05,\n",
    "                      max_depth=5,\n",
    "                      min_child_weight=2,\n",
    "                      gamma = 0.1,\n",
    "                      colsample_bytree=0.7,\n",
    "                      scoring='accuracy'\n",
    "                     )\n",
    "model.fit(X1_train_smote, y1_train_smote)"
   ]
  },
  {
   "cell_type": "code",
   "execution_count": 89,
   "metadata": {},
   "outputs": [
    {
     "name": "stdout",
     "output_type": "stream",
     "text": [
      "[[880 260 212 139]\n",
      " [123 261  68  87]\n",
      " [ 70  64  71  43]\n",
      " [ 40  76  69 167]]\n",
      "52.43\n",
      "              precision    recall  f1-score   support\n",
      "\n",
      "           0       0.79      0.59      0.68      1491\n",
      "           1       0.39      0.48      0.44       539\n",
      "           2       0.17      0.29      0.21       248\n",
      "           3       0.38      0.47      0.42       352\n",
      "\n",
      "   micro avg       0.52      0.52      0.52      2630\n",
      "   macro avg       0.43      0.46      0.44      2630\n",
      "weighted avg       0.60      0.52      0.55      2630\n",
      "\n"
     ]
    }
   ],
   "source": [
    "# Results\n",
    "y1_predict = model.predict(X1_test)\n",
    "print(confusion_matrix(y1_test,y1_predict))\n",
    "print(accuracy_score(y1_test,y1_predict).round(4)*100)\n",
    "print(classification_report(y1_test,y1_predict))"
   ]
  },
  {
   "cell_type": "code",
   "execution_count": null,
   "metadata": {},
   "outputs": [],
   "source": []
  },
  {
   "cell_type": "code",
   "execution_count": null,
   "metadata": {},
   "outputs": [],
   "source": []
  }
 ],
 "metadata": {
  "kernelspec": {
   "display_name": "Python 3",
   "language": "python",
   "name": "python3"
  },
  "language_info": {
   "codemirror_mode": {
    "name": "ipython",
    "version": 3
   },
   "file_extension": ".py",
   "mimetype": "text/x-python",
   "name": "python",
   "nbconvert_exporter": "python",
   "pygments_lexer": "ipython3",
   "version": "3.7.1"
  }
 },
 "nbformat": 4,
 "nbformat_minor": 2
}
