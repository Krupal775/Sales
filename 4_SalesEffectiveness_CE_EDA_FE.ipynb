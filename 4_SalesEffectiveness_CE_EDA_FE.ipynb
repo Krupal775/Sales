{
 "cells": [
  {
   "cell_type": "code",
   "execution_count": 1,
   "metadata": {},
   "outputs": [],
   "source": [
    "import pandas as pd\n",
    "import numpy as np\n",
    "import researchpy as rp\n",
    "from scipy import stats\n",
    "\n",
    "import matplotlib.pyplot as plt\n",
    "import pydotplus\n",
    "from matplotlib import rcParams\n",
    "import seaborn as sb\n",
    "\n",
    "from collections import Counter"
   ]
  },
  {
   "cell_type": "code",
   "execution_count": 2,
   "metadata": {},
   "outputs": [
    {
     "data": {
      "text/html": [
       "<div>\n",
       "<style scoped>\n",
       "    .dataframe tbody tr th:only-of-type {\n",
       "        vertical-align: middle;\n",
       "    }\n",
       "\n",
       "    .dataframe tbody tr th {\n",
       "        vertical-align: top;\n",
       "    }\n",
       "\n",
       "    .dataframe thead th {\n",
       "        text-align: right;\n",
       "    }\n",
       "</style>\n",
       "<table border=\"1\" class=\"dataframe\">\n",
       "  <thead>\n",
       "    <tr style=\"text-align: right;\">\n",
       "      <th></th>\n",
       "      <th>c_Product_ID</th>\n",
       "      <th>c_Source</th>\n",
       "      <th>c_Sales_Agent</th>\n",
       "      <th>c_Location</th>\n",
       "      <th>c_Delivery_Mode</th>\n",
       "      <th>y_Status</th>\n",
       "    </tr>\n",
       "  </thead>\n",
       "  <tbody>\n",
       "    <tr>\n",
       "      <th>0</th>\n",
       "      <td>8</td>\n",
       "      <td>16</td>\n",
       "      <td>4</td>\n",
       "      <td>1</td>\n",
       "      <td>0</td>\n",
       "      <td>1</td>\n",
       "    </tr>\n",
       "    <tr>\n",
       "      <th>1</th>\n",
       "      <td>18</td>\n",
       "      <td>2</td>\n",
       "      <td>5</td>\n",
       "      <td>10</td>\n",
       "      <td>4</td>\n",
       "      <td>1</td>\n",
       "    </tr>\n",
       "    <tr>\n",
       "      <th>2</th>\n",
       "      <td>17</td>\n",
       "      <td>23</td>\n",
       "      <td>1</td>\n",
       "      <td>13</td>\n",
       "      <td>0</td>\n",
       "      <td>1</td>\n",
       "    </tr>\n",
       "    <tr>\n",
       "      <th>3</th>\n",
       "      <td>14</td>\n",
       "      <td>23</td>\n",
       "      <td>8</td>\n",
       "      <td>6</td>\n",
       "      <td>0</td>\n",
       "      <td>0</td>\n",
       "    </tr>\n",
       "    <tr>\n",
       "      <th>4</th>\n",
       "      <td>17</td>\n",
       "      <td>2</td>\n",
       "      <td>8</td>\n",
       "      <td>1</td>\n",
       "      <td>0</td>\n",
       "      <td>1</td>\n",
       "    </tr>\n",
       "  </tbody>\n",
       "</table>\n",
       "</div>"
      ],
      "text/plain": [
       "   c_Product_ID  c_Source  c_Sales_Agent  c_Location  c_Delivery_Mode  \\\n",
       "0             8        16              4           1                0   \n",
       "1            18         2              5          10                4   \n",
       "2            17        23              1          13                0   \n",
       "3            14        23              8           6                0   \n",
       "4            17         2              8           1                0   \n",
       "\n",
       "   y_Status  \n",
       "0         1  \n",
       "1         1  \n",
       "2         1  \n",
       "3         0  \n",
       "4         1  "
      ]
     },
     "execution_count": 2,
     "metadata": {},
     "output_type": "execute_result"
    }
   ],
   "source": [
    "df1 = pd.read_csv('2_SalesEffect_Cleaned_Encoded.csv')\n",
    "df1.head()"
   ]
  },
  {
   "cell_type": "code",
   "execution_count": 3,
   "metadata": {},
   "outputs": [],
   "source": [
    "# Create All lists\n",
    "AllColumns = ['c_Product_ID', 'c_Source','c_Sales_Agent', \n",
    "              'c_Location', 'c_Delivery_Mode', 'y_Status']\n",
    "\n",
    "# No Continuous Columns\n",
    "ConVarList=[]\n",
    "\n",
    "CatVarList = ['c_Product_ID', 'c_Source','c_Sales_Agent', \n",
    "              'c_Location', 'c_Delivery_Mode']\n",
    "\n",
    "OutcomeVar=['y_Status']"
   ]
  },
  {
   "attachments": {
    "FetureEnggTest.PNG": {
     "image/png": "[encoded data removed]"
    }
   },
   "cell_type": "markdown",
   "metadata": {},
   "source": [
    "# Feature Engg tests Summary\n",
    "\n",
    "![FetureEnggTest.PNG](attachment:FetureEnggTest.PNG)"
   ]
  },
  {
   "cell_type": "markdown",
   "metadata": {},
   "source": [
    "# Delete all ID columns like ID, Name, EmailID, phone no etc if any"
   ]
  },
  {
   "cell_type": "code",
   "execution_count": 10,
   "metadata": {},
   "outputs": [],
   "source": [
    "# There are no ID or ID like columns\n",
    "#Delete_Col_List = ['a','b']\n",
    "#df1.drop(Delete_Col_List, inplace=True,axis=1)"
   ]
  },
  {
   "cell_type": "markdown",
   "metadata": {},
   "source": [
    "# Check Multi-Collinearity - using Correlation on predictor continuous variables "
   ]
  },
  {
   "cell_type": "code",
   "execution_count": 12,
   "metadata": {},
   "outputs": [
    {
     "data": {
      "text/plain": [
       "<matplotlib.axes._subplots.AxesSubplot at 0x1370cd80470>"
      ]
     },
     "execution_count": 12,
     "metadata": {},
     "output_type": "execute_result"
    },
    {
     "data": {
      "image/png": "[encoded data removed]",
      "text/plain": [
       "<Figure size 360x360 with 2 Axes>"
      ]
     },
     "metadata": {},
     "output_type": "display_data"
    }
   ],
   "source": [
    "# Run pearson Correlation - There are no Continupus Variables\n",
    "\n",
    "# How ever We can do Spearman Correlation to test multicolinearlty amoung categorical variables\n",
    "\n",
    "Corr_CatVarList= df1[CatVarList].corr(method='spearman').round(2)\n",
    "# Masking of upper traingle\n",
    "sb.set(style=\"white\")\n",
    "mask = np.zeros_like(Corr_CatVarList, dtype=np.bool)\n",
    "mask[np.triu_indices_from(mask)] = True\n",
    "# Plotting\n",
    "rcParams['figure.figsize'] = 5,5\n",
    "sb.heatmap(Corr_CatVarList,annot = True,mask=mask,cmap = sb.diverging_palette(220, 10, as_cmap=True),vmax=.3,center=0,square=True,linewidths=.5,cbar_kws={\"shrink\": .5})\n",
    "\n",
    "# where ever the value of r >.75, it means very high correlation. we can look at deleting on eof the intersecting variables.\n",
    "# In this case no strong correlations so no multicollinearity\n",
    "# We can conclude that there is no multicollinearity among the categorical varibales\n"
   ]
  },
  {
   "cell_type": "markdown",
   "metadata": {},
   "source": [
    "# Checking if each categoriable variable has a statistically signifcant association with categorical outcome variable\n",
    "\n",
    "## Below sample is for just one, we have to do for every combination of categorical predictor with outcome varibales"
   ]
  },
  {
   "cell_type": "code",
   "execution_count": 9,
   "metadata": {},
   "outputs": [
    {
     "name": "stdout",
     "output_type": "stream",
     "text": [
      "y_Status         0    1    2    3\n",
      "c_Product_ID                     \n",
      "0                1    0    0    0\n",
      "1               67   14    5    0\n",
      "2               21    8    5    1\n",
      "3                3    2    2    0\n",
      "4              250   67   35   52\n",
      "5                4    2    1    0\n",
      "6                1    0    0    0\n",
      "7                3    0    1    0\n",
      "8              411  207   99  186\n",
      "9               55   44   15   37\n",
      "10               8    3    0    1\n",
      "11              17    6    2    4\n",
      "12               3    0    0    0\n",
      "13              26    0    0    0\n",
      "14            1268   60   18    2\n",
      "15               3    0    0    0\n",
      "16               5    1    0    0\n",
      "17             677  427  240  167\n",
      "18             446  286  111  262\n",
      "19              35   19    8   33\n",
      "20              29    8    8   15\n",
      "21               4    0    1    0\n",
      "22               2    0    0    0\n",
      "23               1    0    0    0\n",
      "24              45   23    8    6\n",
      "25              11   11    2    2\n",
      "26             330  162   84   84\n",
      "27               1    0    0    0\n",
      "Chi     : 1328.2755627318274\n",
      "P-value : 9.228962921737543e-225\n",
      "dof     : 81\n"
     ]
    }
   ],
   "source": [
    "#Null Hypothesis: There is no association between the variables\n",
    "\n",
    "print(pd.crosstab(df1.c_Product_ID, df1.y_Status))\n",
    "chi2, p, dof, expected = stats.chi2_contingency(pd.crosstab(df1.c_Product_ID, df1.y_Status))\n",
    "\n",
    "print(\"Chi     :\",chi2)\n",
    "print(\"P-value :\",p)\n",
    "print(\"dof     :\",dof)\n",
    "#print(\"expected:\",expected)\n",
    "\n",
    "# Repeat the above for every combination and you will get the result:\n",
    "#p-value:0.0 < 0.05. Therefore c_Product_ID is IMPORTANT for Prediction\n",
    "#p-value:0.0 < 0.05. Therefore c_Source is IMPORTANT for Prediction\n",
    "#p-value:0.0 < 0.05. Therefore c_Sales_Agent is IMPORTANT for Prediction\n",
    "#p-value:0.0 < 0.05. Therefore c_Location is IMPORTANT for Prediction\n",
    "#p-value:0.0 < 0.05. Therefore c_Delivery_Mode is IMPORTANT for Prediction"
   ]
  },
  {
   "cell_type": "markdown",
   "metadata": {},
   "source": [
    "# Check Correlation of Categorical Predictors with the Categorical Outcome - using Sphearman.\n",
    "\n",
    "### Please note that we have alre done CHISquare test, this test is not required but put in only for academic purposes"
   ]
  },
  {
   "cell_type": "code",
   "execution_count": 13,
   "metadata": {},
   "outputs": [
    {
     "data": {
      "text/plain": [
       "<matplotlib.axes._subplots.AxesSubplot at 0x1370e4e9c18>"
      ]
     },
     "execution_count": 13,
     "metadata": {},
     "output_type": "execute_result"
    },
    {
     "data": {
      "image/png": "[encoded data removed]",
      "text/plain": [
       "<Figure size 360x360 with 2 Axes>"
      ]
     },
     "metadata": {},
     "output_type": "display_data"
    }
   ],
   "source": [
    "Corr_AllColumns= df1[AllColumns].corr(method='spearman').round(2)\n",
    "# Masking of upper traingle\n",
    "sb.set(style=\"white\")\n",
    "mask = np.zeros_like(Corr_AllColumns, dtype=np.bool)\n",
    "mask[np.triu_indices_from(mask)] = True\n",
    "# Plotting\n",
    "rcParams['figure.figsize'] = 5,5\n",
    "sb.heatmap(Corr_AllColumns,annot = True,mask=mask,cmap = sb.diverging_palette(220, 10, as_cmap=True),vmax=.3,center=0,square=True,linewidths=.5,cbar_kws={\"shrink\": .5})\n",
    "\n",
    "#The Resuslt show the correalations with y_status are having low values, but chi square has already proved its signifcance"
   ]
  },
  {
   "cell_type": "markdown",
   "metadata": {},
   "source": [
    "# Check if Categorcal predictor impacts continuous Outcome variables\n",
    "## If the class of predictor is dicotomous use t-test else use Anova\n",
    "### Use ful only in case of regression\n",
    "#### Should be done for every combination of Predicor and outcome. An all the tests which have p-value < 0.05, those predicors should be retained and others deleted"
   ]
  },
  {
   "cell_type": "code",
   "execution_count": 17,
   "metadata": {},
   "outputs": [],
   "source": [
    "## \n",
    "#Make groups based on categorical varibale c_sex\n",
    "#Females = df1[df1.c_sex==0]\n",
    "#Males = df1[df1.c_sex==1]\n",
    "\n",
    "# the the t test on Salary bands of the two groups\n",
    "#stats.ttest_ind(Males.y_salary_band,Females.y_salary_band)\n",
    "\n",
    "# Since being male or female has impact on the salary, this variable cannot be deleted\n",
    "# p<0.05 so null hypothesis that \"there is no difference in performance between the males-females\" is rejected.\n",
    "#i.e there is indeed defference in the salary of the males and females. this is being suggesed by barcharts in EDA also.\n"
   ]
  },
  {
   "cell_type": "markdown",
   "metadata": {},
   "source": [
    "# PCA could be done for dimensionality reduction only if it improves the accuracy.\n",
    "\n",
    "## PCA is not required as all the varibales are catrgorical in nature."
   ]
  },
  {
   "cell_type": "code",
   "execution_count": null,
   "metadata": {},
   "outputs": [],
   "source": [
    "# This Data set doent need PCA"
   ]
  },
  {
   "cell_type": "markdown",
   "metadata": {},
   "source": [
    "# Feature Creation - Primarily done based on conclusions from domain knowledge analysis.\n",
    "## look at below criteria\n",
    "###               1) Appropriate bin sizes for converting continuous variable into categorical variable\n",
    "###               2) Combining categories, \n",
    "###               3) Creating new features based on linear transformations of other variables.\n",
    "####                      e.g duration can be created by taking difference of two dates\n",
    "###               4) Usefulness of variables and metrics"
   ]
  },
  {
   "cell_type": "code",
   "execution_count": null,
   "metadata": {},
   "outputs": [],
   "source": [
    "# This dataset doent need any of it"
   ]
  },
  {
   "cell_type": "markdown",
   "metadata": {},
   "source": [
    "# Attribute Transformation : \n",
    "###  A function that maps the entire set of values of a given attribute to a new  set of replacement values such that        each old value can be identified with one of the new values\n",
    "###              1) Simple functions: x^k, log(x), e^x, |x|\n",
    "###              2) Standardization ( Sales are different): Z score & \n",
    "###              3) Normalization: Min-Max normalization"
   ]
  },
  {
   "cell_type": "code",
   "execution_count": null,
   "metadata": {},
   "outputs": [],
   "source": [
    "# This dataset doent need any of it"
   ]
  },
  {
   "cell_type": "markdown",
   "metadata": {},
   "source": [
    "# Dimesionality Reduction in text analysis\n",
    "## For text analysis, various methods like stemming, lemmetization, rmeoval of stopping words, removal of repeated letters etc can be used to reduce the dimensions."
   ]
  },
  {
   "cell_type": "code",
   "execution_count": null,
   "metadata": {},
   "outputs": [],
   "source": [
    "# This dataset doent need any of it"
   ]
  }
 ],
 "metadata": {
  "kernelspec": {
   "display_name": "Python 3",
   "language": "python",
   "name": "python3"
  },
  "language_info": {
   "codemirror_mode": {
    "name": "ipython",
    "version": 3
   },
   "file_extension": ".py",
   "mimetype": "text/x-python",
   "name": "python",
   "nbconvert_exporter": "python",
   "pygments_lexer": "ipython3",
   "version": "3.7.1"
  }
 },
 "nbformat": 4,
 "nbformat_minor": 2
}
