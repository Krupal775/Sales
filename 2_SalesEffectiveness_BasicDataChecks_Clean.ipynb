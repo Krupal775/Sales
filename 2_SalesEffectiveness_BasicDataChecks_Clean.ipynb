{
 "cells": [
  {
   "cell_type": "code",
   "execution_count": 1,
   "metadata": {},
   "outputs": [],
   "source": [
    "import pandas as pd\n",
    "import numpy as np\n",
    "from collections import Counter"
   ]
  },
  {
   "cell_type": "code",
   "execution_count": 2,
   "metadata": {},
   "outputs": [
    {
     "data": {
      "text/html": [
       "<div>\n",
       "<style scoped>\n",
       "    .dataframe tbody tr th:only-of-type {\n",
       "        vertical-align: middle;\n",
       "    }\n",
       "\n",
       "    .dataframe tbody tr th {\n",
       "        vertical-align: top;\n",
       "    }\n",
       "\n",
       "    .dataframe thead th {\n",
       "        text-align: right;\n",
       "    }\n",
       "</style>\n",
       "<table border=\"1\" class=\"dataframe\">\n",
       "  <thead>\n",
       "    <tr style=\"text-align: right;\">\n",
       "      <th></th>\n",
       "      <th>t_Create</th>\n",
       "      <th>c_Product_ID</th>\n",
       "      <th>c_Source</th>\n",
       "      <th>c_Mobile</th>\n",
       "      <th>c_EMAIL</th>\n",
       "      <th>c_Sales_Agent</th>\n",
       "      <th>c_Location</th>\n",
       "      <th>c_Delivery_Mode</th>\n",
       "      <th>y_Status</th>\n",
       "    </tr>\n",
       "  </thead>\n",
       "  <tbody>\n",
       "    <tr>\n",
       "      <th>0</th>\n",
       "      <td>14-11-2018 10:05</td>\n",
       "      <td>NaN</td>\n",
       "      <td>Website</td>\n",
       "      <td>984XXXXXXX</td>\n",
       "      <td>aXXXXXXX@gmail.com</td>\n",
       "      <td>Sales-Agent-11</td>\n",
       "      <td>NaN</td>\n",
       "      <td>Mode-5</td>\n",
       "      <td>Open</td>\n",
       "    </tr>\n",
       "    <tr>\n",
       "      <th>1</th>\n",
       "      <td>14-11-2018 09:22</td>\n",
       "      <td>NaN</td>\n",
       "      <td>Website</td>\n",
       "      <td>XXXXXXX</td>\n",
       "      <td>#VALUE!</td>\n",
       "      <td>Sales-Agent-10</td>\n",
       "      <td>NaN</td>\n",
       "      <td>Mode-5</td>\n",
       "      <td>Open</td>\n",
       "    </tr>\n",
       "    <tr>\n",
       "      <th>2</th>\n",
       "      <td>14-11-2018 09:21</td>\n",
       "      <td>NaN</td>\n",
       "      <td>Website</td>\n",
       "      <td>XXXXXXX</td>\n",
       "      <td>dXXXXXXX@yahoo.com</td>\n",
       "      <td>Sales-Agent-10</td>\n",
       "      <td>NaN</td>\n",
       "      <td>Mode-5</td>\n",
       "      <td>Open</td>\n",
       "    </tr>\n",
       "    <tr>\n",
       "      <th>3</th>\n",
       "      <td>14-11-2018 08:46</td>\n",
       "      <td>NaN</td>\n",
       "      <td>Website</td>\n",
       "      <td>XXXXXXX</td>\n",
       "      <td>wXXXXXXX@gmail.com</td>\n",
       "      <td>Sales-Agent-10</td>\n",
       "      <td>NaN</td>\n",
       "      <td>Mode-5</td>\n",
       "      <td>Open</td>\n",
       "    </tr>\n",
       "    <tr>\n",
       "      <th>4</th>\n",
       "      <td>14-11-2018 07:34</td>\n",
       "      <td>NaN</td>\n",
       "      <td>Website</td>\n",
       "      <td>XXXXXXX</td>\n",
       "      <td>cXXXXXXX@gmail.com</td>\n",
       "      <td>Sales-Agent-10</td>\n",
       "      <td>NaN</td>\n",
       "      <td>Mode-5</td>\n",
       "      <td>Open</td>\n",
       "    </tr>\n",
       "  </tbody>\n",
       "</table>\n",
       "</div>"
      ],
      "text/plain": [
       "           t_Create  c_Product_ID c_Source    c_Mobile             c_EMAIL  \\\n",
       "0  14-11-2018 10:05           NaN  Website  984XXXXXXX  aXXXXXXX@gmail.com   \n",
       "1  14-11-2018 09:22           NaN  Website     XXXXXXX             #VALUE!   \n",
       "2  14-11-2018 09:21           NaN  Website     XXXXXXX  dXXXXXXX@yahoo.com   \n",
       "3  14-11-2018 08:46           NaN  Website     XXXXXXX  wXXXXXXX@gmail.com   \n",
       "4  14-11-2018 07:34           NaN  Website     XXXXXXX  cXXXXXXX@gmail.com   \n",
       "\n",
       "    c_Sales_Agent c_Location c_Delivery_Mode y_Status  \n",
       "0  Sales-Agent-11        NaN          Mode-5     Open  \n",
       "1  Sales-Agent-10        NaN          Mode-5     Open  \n",
       "2  Sales-Agent-10        NaN          Mode-5     Open  \n",
       "3  Sales-Agent-10        NaN          Mode-5     Open  \n",
       "4  Sales-Agent-10        NaN          Mode-5     Open  "
      ]
     },
     "execution_count": 2,
     "metadata": {},
     "output_type": "execute_result"
    }
   ],
   "source": [
    "\n",
    "df1 = pd.read_csv('1_SalesEffectDownLoad.csv')\n",
    "\n",
    "# feature names renamed based on analysis of data.\n",
    "names = ['t_Create','c_Product_ID','c_Source','c_Mobile','c_EMAIL','c_Sales_Agent',\n",
    "         'c_Location','c_Delivery_Mode','y_Status']\n",
    "df1.columns = names\n",
    "\n",
    "df1.head()"
   ]
  },
  {
   "cell_type": "markdown",
   "metadata": {},
   "source": [
    "# Data Sanity checks - Finding, deleting or updating the incorrigible cells/rows"
   ]
  },
  {
   "cell_type": "code",
   "execution_count": 3,
   "metadata": {},
   "outputs": [
    {
     "data": {
      "text/plain": [
       "(7422, 9)"
      ]
     },
     "execution_count": 3,
     "metadata": {},
     "output_type": "execute_result"
    }
   ],
   "source": [
    "df1.shape"
   ]
  },
  {
   "cell_type": "code",
   "execution_count": 4,
   "metadata": {},
   "outputs": [
    {
     "name": "stdout",
     "output_type": "stream",
     "text": [
      "<class 'pandas.core.frame.DataFrame'>\n",
      "RangeIndex: 7422 entries, 0 to 7421\n",
      "Data columns (total 9 columns):\n",
      "t_Create           7422 non-null object\n",
      "c_Product_ID       7364 non-null float64\n",
      "c_Source           7405 non-null object\n",
      "c_Mobile           5612 non-null object\n",
      "c_EMAIL            7422 non-null object\n",
      "c_Sales_Agent      7399 non-null object\n",
      "c_Location         7364 non-null object\n",
      "c_Delivery_Mode    7422 non-null object\n",
      "y_Status           7422 non-null object\n",
      "dtypes: float64(1), object(8)\n",
      "memory usage: 521.9+ KB\n"
     ]
    }
   ],
   "source": [
    "# All categorical show as objects as they are categorical string.\n",
    "df1.info()"
   ]
  },
  {
   "attachments": {
    "Data%20Analysis.PNG": {
     "image/png": "[encoded data removed]"
    }
   },
   "cell_type": "markdown",
   "metadata": {},
   "source": [
    "# Closer look at columns based on Domian knowledge\n",
    "## As per the Data analysis work sheet we find the columns - t_Create,c_Mobile,c_EMAIL as not useful so can be deleted\n",
    "\n",
    "## Data Analysis\n",
    "![Data%20Analysis.PNG](attachment:Data%20Analysis.PNG)"
   ]
  },
  {
   "cell_type": "code",
   "execution_count": 5,
   "metadata": {},
   "outputs": [
    {
     "data": {
      "text/plain": [
       "Index(['t_Create', 'c_Product_ID', 'c_Source', 'c_Mobile', 'c_EMAIL',\n",
       "       'c_Sales_Agent', 'c_Location', 'c_Delivery_Mode', 'y_Status'],\n",
       "      dtype='object')"
      ]
     },
     "execution_count": 5,
     "metadata": {},
     "output_type": "execute_result"
    }
   ],
   "source": [
    "df1.columns"
   ]
  },
  {
   "cell_type": "code",
   "execution_count": 6,
   "metadata": {},
   "outputs": [
    {
     "name": "stdout",
     "output_type": "stream",
     "text": [
      "We expect no decrease in records, only in decrease of 3 columns is expected\n",
      "Before deleting the columns:  (7422, 9)\n",
      "After deleting the columns:  (7422, 6)\n"
     ]
    }
   ],
   "source": [
    "# Create All lists\n",
    "AllColumns = ['c_Product_ID', 'c_Source','c_Sales_Agent', \n",
    "              'c_Location', 'c_Delivery_Mode', 'y_Status']\n",
    "\n",
    "# No Continuous Columns\n",
    "ConColList=[]\n",
    "\n",
    "CatColList = ['c_Product_ID', 'c_Source','c_Sales_Agent', \n",
    "              'c_Location', 'c_Delivery_Mode']\n",
    "\n",
    "\n",
    "# Instead of deleting created a new data frame without t_Create,c_Mobile,c_EMAIL\n",
    "df2=df1[AllColumns] \n",
    "\n",
    "print(\"We expect no decrease in records, only in decrease of 3 columns is expected\")\n",
    "print(\"Before deleting the columns: \", df1.shape)\n",
    "print(\"After deleting the columns: \", df2.shape)"
   ]
  },
  {
   "cell_type": "markdown",
   "metadata": {},
   "source": [
    "# Analyse records to be deleted and treatment of nulls"
   ]
  },
  {
   "cell_type": "code",
   "execution_count": 7,
   "metadata": {},
   "outputs": [
    {
     "name": "stdout",
     "output_type": "stream",
     "text": [
      "c_Product_ID       58\n",
      "c_Source           17\n",
      "c_Sales_Agent      23\n",
      "c_Location         58\n",
      "c_Delivery_Mode     0\n",
      "y_Status            0\n",
      "dtype: int64 c_Product_ID       58\n",
      "c_Source           17\n",
      "c_Sales_Agent      23\n",
      "c_Location         58\n",
      "c_Delivery_Mode     0\n",
      "y_Status            0\n",
      "dtype: int64\n"
     ]
    }
   ],
   "source": [
    "#Check Isnull and isna - no blanks or nans\n",
    "print(df2.isna().sum(), df2.isnull().sum())"
   ]
  },
  {
   "attachments": {
    "StatusRationalize.PNG": {
     "image/png": "[encoded data removed]"
    }
   },
   "cell_type": "markdown",
   "metadata": {},
   "source": [
    "## Domain inputs on ratinalizing of status values ( The analysis is before any deletions.. so there is some differece in data counts\n",
    "\n",
    "![StatusRationalize.PNG](attachment:StatusRationalize.PNG)\n"
   ]
  },
  {
   "cell_type": "code",
   "execution_count": 8,
   "metadata": {},
   "outputs": [
    {
     "name": "stdout",
     "output_type": "stream",
     "text": [
      "Counter({'Open': 63, 'Not Responding': 10, 'Just Enquiry': 9, 'Junk Lead': 4, 'Potential': 3, 'Long Term': 2, 'In Progress Positive': 1, 'In Progress Negative': 1, 'LOST': 1})\n",
      "\n",
      "Total rows having nan in its row :  94\n"
     ]
    }
   ],
   "source": [
    "#Check product ID with y_Status\n",
    "# Give total no of all the rows for which any of the 4 below columns have nan values \n",
    "print(Counter(df2[df2['c_Product_ID'].isna()  | df2['c_Source'].isna() |\n",
    "            df2['c_Sales_Agent'].isna() | df2['c_Location'].isna()].y_Status))\n",
    "\n",
    "print(\"\\nTotal rows having nan in its row : \",df2[df2['c_Product_ID'].isna()  | df2['c_Source'].isna() |\n",
    "            df2['c_Sales_Agent'].isna() | df2['c_Location'].isna()].shape[0])\n",
    "\n",
    "# Looking at the data follwing is the inference\n",
    "# 1) Most of the records have status as \"open\",\"Just Enquiry\" and \"Not Responding\". \n",
    "#     They are not an catgory of interest for us, so they can be deleted\n",
    "# 2) Others are very few so we can safely delete all of them. A total of 94 records will be deleted"
   ]
  },
  {
   "cell_type": "markdown",
   "metadata": {},
   "source": [
    "## Before any deletion lets check if we can reduce the deletions"
   ]
  },
  {
   "cell_type": "markdown",
   "metadata": {},
   "source": [
    "### Product ID "
   ]
  },
  {
   "cell_type": "code",
   "execution_count": 9,
   "metadata": {},
   "outputs": [
    {
     "data": {
      "text/plain": [
       "Counter({'Open': 49,\n",
       "         'In Progress Positive': 1,\n",
       "         'Junk Lead': 2,\n",
       "         'Just Enquiry': 3,\n",
       "         'Not Responding': 2,\n",
       "         'Long Term': 1})"
      ]
     },
     "execution_count": 9,
     "metadata": {},
     "output_type": "execute_result"
    }
   ],
   "source": [
    "# product Ids cannot be estimated and all have to be deleted 58 rows\n",
    "Counter(df2[df2['c_Product_ID'].isna()].y_Status)"
   ]
  },
  {
   "cell_type": "markdown",
   "metadata": {},
   "source": [
    "### Source "
   ]
  },
  {
   "cell_type": "code",
   "execution_count": 10,
   "metadata": {},
   "outputs": [
    {
     "name": "stdout",
     "output_type": "stream",
     "text": [
      "\n",
      " Counter({'Call': 2547, 'Live Chat-Direct': 1834, 'Website': 1594, 'Live Chat-Google Organic': 274, 'Live Chat -PPC': 249, 'Live Chat-Blog': 237, 'Customer Referral': 180, 'US Website': 137, 'Just Dial': 56, 'Existing Client': 51, 'Live Chat-CPC': 50, 'Personal Contact': 50, 'By Recommendation': 32, 'CRM form': 23, 'Existing Customer': 22, 'Live Chat-Google Ads': 21, 'Campaign': 19, nan: 17, 'E-mail Campaign': 12, 'Live Chat-Adwords Remarketing': 7, 'Live Chat-Quora': 2, 'Other': 2, 'SMS Campaign': 2, 'Live Chat-Youtube': 2, 'E-Mail Message': 1, 'Live Chat-Justdial': 1})\n",
      "\n",
      " Counter({nan: 17})\n",
      "\n",
      " Counter({'Open': 10, 'Not Responding': 2, 'Just Enquiry': 1, 'Junk Lead': 1, 'In Progress Negative': 1, 'LOST': 1, 'Potential': 1})\n",
      "\n",
      " After Counter({'Call': 2547, 'Live Chat-Direct': 1834, 'Website': 1594, 'Live Chat-Google Organic': 274, 'Live Chat -PPC': 249, 'Live Chat-Blog': 237, 'Customer Referral': 180, 'US Website': 137, 'Just Dial': 56, 'Existing Client': 51, 'Live Chat-CPC': 50, 'Personal Contact': 50, 'By Recommendation': 32, 'CRM form': 23, 'Existing Customer': 22, 'Live Chat-Google Ads': 21, 'Other': 19, 'Campaign': 19, 'E-mail Campaign': 12, 'Live Chat-Adwords Remarketing': 7, 'Live Chat-Quora': 2, 'SMS Campaign': 2, 'Live Chat-Youtube': 2, 'E-Mail Message': 1, 'Live Chat-Justdial': 1})\n"
     ]
    },
    {
     "name": "stderr",
     "output_type": "stream",
     "text": [
      "E:\\Anaconda3\\lib\\site-packages\\pandas\\core\\indexing.py:543: SettingWithCopyWarning: \n",
      "A value is trying to be set on a copy of a slice from a DataFrame.\n",
      "Try using .loc[row_indexer,col_indexer] = value instead\n",
      "\n",
      "See the caveats in the documentation: http://pandas.pydata.org/pandas-docs/stable/indexing.html#indexing-view-versus-copy\n",
      "  self.obj[item] = s\n"
     ]
    }
   ],
   "source": [
    "\n",
    "# print all categoiries of sources - we see there is a category - \"Other\"\n",
    "print(\"\\n\",Counter(df2.c_Source))\n",
    "\n",
    "# get all rows where Source has null - 17 nans\n",
    "print(\"\\n\",Counter(df2[df2['c_Source'].isna()].c_Source))\n",
    "\n",
    "# study the split of the statuses across these 17 nans\n",
    "print(\"\\n\",Counter(df2[df2['c_Source'].isna()].y_Status))\n",
    "\n",
    "# Conclusion - instead of deleting we can update all these records to \"Other\"\n",
    "\n",
    "# Update Source to Other\n",
    "df2.loc[df2['c_Source'].isna(),['c_Source']] = 'Other'\n",
    "\n",
    "## Check Status after the update - 19 in others\n",
    "print(\"\\n After\",Counter(df2.c_Source))\n",
    "\n"
   ]
  },
  {
   "cell_type": "markdown",
   "metadata": {},
   "source": [
    "### Location"
   ]
  },
  {
   "cell_type": "code",
   "execution_count": 11,
   "metadata": {},
   "outputs": [
    {
     "name": "stdout",
     "output_type": "stream",
     "text": [
      "\n",
      " Counter({'Other Locations': 2500, 'Bangalore': 2084, 'Chennai': 909, 'Hyderabad': 528, 'Delhi': 471, 'Mumbai': 402, 'Pune': 142, 'UAE': 79, nan: 58, 'Trivandrum': 58, 'Kolkata': 55, 'USA': 45, 'UK': 41, 'AUSTRALIA': 25, 'Singapore': 17, 'Malaysia': 4, 'EUROPE': 3, 'Howrah': 1})\n",
      "\n",
      " Counter({nan: 58})\n",
      "\n",
      " Counter({'Open': 49, 'Not Responding': 4, 'Just Enquiry': 3, 'Long Term': 1, 'Junk Lead': 1})\n",
      "\n",
      " After Counter({'Other Locations': 2558, 'Bangalore': 2084, 'Chennai': 909, 'Hyderabad': 528, 'Delhi': 471, 'Mumbai': 402, 'Pune': 142, 'UAE': 79, 'Trivandrum': 58, 'Kolkata': 55, 'USA': 45, 'UK': 41, 'AUSTRALIA': 25, 'Singapore': 17, 'Malaysia': 4, 'EUROPE': 3, 'Howrah': 1})\n"
     ]
    }
   ],
   "source": [
    "# print all categoiries of sources - we see there is a category - \"Other\"\n",
    "print(\"\\n\",Counter(df2.c_Location))\n",
    "\n",
    "# get all rows where Source has null - 17 nans\n",
    "print(\"\\n\",Counter(df2[df2['c_Location'].isna()].c_Location))\n",
    "\n",
    "# study the split of the statuses across these 17 nans\n",
    "print(\"\\n\",Counter(df2[df2['c_Location'].isna()].y_Status))\n",
    "\n",
    "# Conclusion - instead of deleting we can update all these records to \"Other\"\n",
    "\n",
    "# Update Location to Other\n",
    "df2.loc[df2['c_Location'].isna(),['c_Location']] = 'Other Locations'\n",
    "\n",
    "## Check Status after the update - 58 in other Location (2558)\n",
    "print(\"\\n After\",Counter(df2.c_Location))"
   ]
  },
  {
   "cell_type": "markdown",
   "metadata": {},
   "source": [
    "### Sales Agent "
   ]
  },
  {
   "cell_type": "code",
   "execution_count": 12,
   "metadata": {},
   "outputs": [
    {
     "name": "stdout",
     "output_type": "stream",
     "text": [
      "\n",
      " Counter({'Sales-Agent-4': 1500, 'Sales-Agent-11': 1420, 'Sales-Agent-5': 1190, 'Sales-Agent-9': 879, 'Sales-Agent-3': 781, 'Sales-Agent-7': 736, 'Sales-Agent-2': 389, 'Sales-Agent-12': 269, 'Sales-Agent-6': 114, 'Sales-Agent-8': 68, 'Sales-Agent-10': 49, nan: 23, 'Sales-Agent-1': 4})\n",
      "\n",
      " Counter({nan: 23})\n",
      "\n",
      " Counter({'Open': 14, 'Just Enquiry': 4, 'Not Responding': 3, 'Potential': 2})\n",
      "\n",
      " After Counter({'Sales-Agent-4': 1500, 'Sales-Agent-11': 1420, 'Sales-Agent-5': 1190, 'Sales-Agent-9': 879, 'Sales-Agent-3': 781, 'Sales-Agent-7': 736, 'Sales-Agent-2': 389, 'Sales-Agent-12': 269, 'Sales-Agent-6': 114, 'Sales-Agent-8': 68, 'Sales-Agent-10': 49, 'Sales-Agent-Other': 23, 'Sales-Agent-1': 4})\n"
     ]
    }
   ],
   "source": [
    "# print all categoiries of sources - we see there is a category - \"Other\"\n",
    "print(\"\\n\",Counter(df2.c_Sales_Agent))\n",
    "\n",
    "# get all rows where Source has null - 17 nans\n",
    "print(\"\\n\",Counter(df2[df2['c_Sales_Agent'].isna()].c_Sales_Agent))\n",
    "\n",
    "# study the split of the statuses across these 17 nans\n",
    "print(\"\\n\",Counter(df2[df2['c_Sales_Agent'].isna()].y_Status))\n",
    "\n",
    "# Conclusion - instead of deleting we can update all these records to \"Other\"\n",
    "\n",
    "# Update Sales Agent to Other\n",
    "df2.loc[df2['c_Sales_Agent'].isna(),['c_Sales_Agent']] = 'Sales-Agent-Other'\n",
    "\n",
    "## Check Status after the update - 23 in Sales-Agent-Other (23)\n",
    "print(\"\\n After\",Counter(df2.c_Sales_Agent))"
   ]
  },
  {
   "cell_type": "markdown",
   "metadata": {},
   "source": [
    "### final Checks before deletion "
   ]
  },
  {
   "cell_type": "code",
   "execution_count": 13,
   "metadata": {},
   "outputs": [
    {
     "name": "stdout",
     "output_type": "stream",
     "text": [
      "Total rows with NAN in any of their columns 58\n",
      "Split of statuses Counter: 58\n",
      "c_Product_ID       58\n",
      "c_Source            0\n",
      "c_Sales_Agent       0\n",
      "c_Location          0\n",
      "c_Delivery_Mode     0\n",
      "y_Status            0\n",
      "dtype: int64\n"
     ]
    }
   ],
   "source": [
    "# total rows\n",
    "print(\"Total rows with NAN in any of their columns\",df2[df2['c_Product_ID'].isna()  | df2['c_Source'].isna() |\n",
    "            df2['c_Sales_Agent'].isna() | df2['c_Location'].isna()].shape[0])\n",
    "\n",
    "print(\"Split of statuses Counter:\",df2[df2['c_Product_ID'].isna()].shape[0])\n",
    "\n",
    "#Check Isnull and isna - no blanks or nans\n",
    "print(df2.isna().sum())"
   ]
  },
  {
   "attachments": {
    "StatusRationalize.PNG": {
     "image/png": "[encoded data removed]"
    }
   },
   "cell_type": "markdown",
   "metadata": {},
   "source": [
    "### Drop rows\n",
    "\n",
    "![StatusRationalize.PNG](attachment:StatusRationalize.PNG)"
   ]
  },
  {
   "cell_type": "code",
   "execution_count": 14,
   "metadata": {},
   "outputs": [
    {
     "name": "stdout",
     "output_type": "stream",
     "text": [
      "before delete of status: (7422, 6)\n",
      "after delete of status: (6580, 6)\n",
      "before : (6580, 6)\n",
      "after : (6574, 6)\n",
      "c_Product_ID       0\n",
      "c_Source           0\n",
      "c_Sales_Agent      0\n",
      "c_Location         0\n",
      "c_Delivery_Mode    0\n",
      "y_Status           0\n",
      "dtype: int64 c_Product_ID       0\n",
      "c_Source           0\n",
      "c_Sales_Agent      0\n",
      "c_Location         0\n",
      "c_Delivery_Mode    0\n",
      "y_Status           0\n",
      "dtype: int64\n"
     ]
    }
   ],
   "source": [
    "# Delete rows with status as \"Just Enquiry\" & \"Open\"\n",
    "print('before delete of status:',df2.shape)\n",
    "df2 = df2.loc[(df2.y_Status != \"Just Enquiry\") & (df2.y_Status != \"Open\"),:]\n",
    "print('after delete of status:',df2.shape) # 842 records were deleted\n",
    "\n",
    "# 6 rows with Nan in product ID, get deleted\n",
    "print('before :',df2.shape)\n",
    "df2.dropna(inplace=True)\n",
    "print('after :',df2.shape)\n",
    "\n",
    "# Checks nulls\n",
    "print(df2.isna().sum(), df2.isnull().sum())"
   ]
  },
  {
   "cell_type": "code",
   "execution_count": 15,
   "metadata": {},
   "outputs": [
    {
     "name": "stdout",
     "output_type": "stream",
     "text": [
      "<class 'pandas.core.frame.DataFrame'>\n",
      "Int64Index: 6574 entries, 18 to 7421\n",
      "Data columns (total 6 columns):\n",
      "c_Product_ID       6574 non-null float64\n",
      "c_Source           6574 non-null object\n",
      "c_Sales_Agent      6574 non-null object\n",
      "c_Location         6574 non-null object\n",
      "c_Delivery_Mode    6574 non-null object\n",
      "y_Status           6574 non-null object\n",
      "dtypes: float64(1), object(5)\n",
      "memory usage: 359.5+ KB\n"
     ]
    }
   ],
   "source": [
    "# Data types look good\n",
    "df2.info()"
   ]
  },
  {
   "cell_type": "markdown",
   "metadata": {},
   "source": [
    "### Rename Statuses"
   ]
  },
  {
   "cell_type": "code",
   "execution_count": 16,
   "metadata": {},
   "outputs": [
    {
     "data": {
      "text/plain": [
       "Counter({'1_Potential': 1350,\n",
       "         '0_NotPotential': 3727,\n",
       "         '3_HighPotential': 852,\n",
       "         '2_PotentialLongTerm': 645})"
      ]
     },
     "execution_count": 16,
     "metadata": {},
     "output_type": "execute_result"
    }
   ],
   "source": [
    "df2.loc[(df2.y_Status == \"CONVERTED\"),['y_Status']]            = \"3_HighPotential\"\n",
    "df2.loc[(df2.y_Status == \"In Progress Negative\"),['y_Status']] = \"0_NotPotential\"\n",
    "df2.loc[(df2.y_Status == \"In Progress Positive\"),['y_Status']] = \"1_Potential\"\n",
    "df2.loc[(df2.y_Status == \"Junk Lead\"),['y_Status']]            = \"0_NotPotential\"\n",
    "#df2.loc[(df2.y_Status == \"Just Enquiry\"),['y_Status']]         = \"0_NotPotential\"\n",
    "df2.loc[(df2.y_Status == \"Long Term\"),['y_Status']]            = \"2_PotentialLongTerm\"\n",
    "df2.loc[(df2.y_Status == \"LOST\"),['y_Status']]                 = \"0_NotPotential\"\n",
    "df2.loc[(df2.y_Status == \"Not Responding\"),['y_Status']]       = \"0_NotPotential\"\n",
    "df2.loc[(df2.y_Status == \"converted\"),['y_Status']]            = \"3_HighPotential\"\n",
    "df2.loc[(df2.y_Status == \"Potential\"),['y_Status']]            = \"1_Potential\"\n",
    "\n",
    "\n",
    "Counter(df2.y_Status)\n"
   ]
  },
  {
   "cell_type": "markdown",
   "metadata": {},
   "source": [
    "# Other Checks - though not required for at this stage"
   ]
  },
  {
   "cell_type": "code",
   "execution_count": 17,
   "metadata": {},
   "outputs": [],
   "source": [
    "#Perform Basic Consistency checks - Already done before\n",
    "\n",
    "#Counter(df2.c_Product_ID)             \n",
    "#df2.XXX.sum()   #No Float Fields      \n"
   ]
  },
  {
   "cell_type": "code",
   "execution_count": 18,
   "metadata": {},
   "outputs": [],
   "source": [
    "# Check Data Constency for every column. Note continues need not be checked as sum in above step is enoug\n",
    "## first Establish a single Categorical Columns which has no discrepencies and every cross tab ensure the total as 32537\n",
    "#pd.crosstab(df2.c_Product_ID,df2.y_Status,margins='all') # matches 6574 records\n",
    "#pd.crosstab(df2.c_Location,df2.y_Status,margins='all') # matches 6574 records\n",
    "#pd.crosstab(df2.c_Delivery_Mode,df2.y_Status,margins='all') # matches 6574 records\n",
    "#pd.crosstab(df2.c_Sales_Agent,df2.y_Status,margins='all') # matches 6574 records\n",
    "#pd.crosstab(df2.c_Source,df2.y_Status,margins='all') # matches 6574 records\n",
    "\n",
    "\n"
   ]
  },
  {
   "cell_type": "markdown",
   "metadata": {},
   "source": [
    "## Special Characters\n",
    "\n",
    "### All columns are categorical in nature and we have already established there are no special characters"
   ]
  },
  {
   "cell_type": "code",
   "execution_count": 19,
   "metadata": {},
   "outputs": [
    {
     "name": "stdout",
     "output_type": "stream",
     "text": [
      "c_Product_ID       0\n",
      "c_Source           0\n",
      "c_Sales_Agent      0\n",
      "c_Location         0\n",
      "c_Delivery_Mode    0\n",
      "y_Status           0\n",
      "dtype: int64\n"
     ]
    }
   ],
   "source": [
    "# Replace All special characters with Nan\n",
    "print(df2.isna().sum())\n",
    "#df1.replace(['$','?','-','*'],np.nan,inplace=True)\n",
    "# show the nan count\n",
    "#print(df2.isna().sum())"
   ]
  },
  {
   "cell_type": "markdown",
   "metadata": {},
   "source": [
    "## Identify and delete Duplicates "
   ]
  },
  {
   "cell_type": "code",
   "execution_count": 20,
   "metadata": {},
   "outputs": [
    {
     "name": "stdout",
     "output_type": "stream",
     "text": [
      "sum : 6574\n",
      "shape before: (6574, 6)\n",
      "shape after: (6574, 6)\n"
     ]
    }
   ],
   "source": [
    "print('sum :',df2.duplicated().count())\n",
    "print('shape before:',df2.shape)\n",
    "#Delete Duplicates - 0 records are deleted\n",
    "df1.drop_duplicates(inplace=True)\n",
    "print('shape after:',df2.shape)"
   ]
  },
  {
   "cell_type": "markdown",
   "metadata": {},
   "source": [
    "# Encoding"
   ]
  },
  {
   "cell_type": "code",
   "execution_count": 243,
   "metadata": {},
   "outputs": [
    {
     "data": {
      "text/html": [
       "<div>\n",
       "<style scoped>\n",
       "    .dataframe tbody tr th:only-of-type {\n",
       "        vertical-align: middle;\n",
       "    }\n",
       "\n",
       "    .dataframe tbody tr th {\n",
       "        vertical-align: top;\n",
       "    }\n",
       "\n",
       "    .dataframe thead th {\n",
       "        text-align: right;\n",
       "    }\n",
       "</style>\n",
       "<table border=\"1\" class=\"dataframe\">\n",
       "  <thead>\n",
       "    <tr style=\"text-align: right;\">\n",
       "      <th></th>\n",
       "      <th>c_Product_ID</th>\n",
       "      <th>c_Source</th>\n",
       "      <th>c_Sales_Agent</th>\n",
       "      <th>c_Location</th>\n",
       "      <th>c_Delivery_Mode</th>\n",
       "      <th>y_Status</th>\n",
       "    </tr>\n",
       "  </thead>\n",
       "  <tbody>\n",
       "    <tr>\n",
       "      <th>18</th>\n",
       "      <td>8</td>\n",
       "      <td>16</td>\n",
       "      <td>4</td>\n",
       "      <td>1</td>\n",
       "      <td>0</td>\n",
       "      <td>1</td>\n",
       "    </tr>\n",
       "    <tr>\n",
       "      <th>19</th>\n",
       "      <td>18</td>\n",
       "      <td>2</td>\n",
       "      <td>5</td>\n",
       "      <td>10</td>\n",
       "      <td>4</td>\n",
       "      <td>1</td>\n",
       "    </tr>\n",
       "    <tr>\n",
       "      <th>24</th>\n",
       "      <td>17</td>\n",
       "      <td>23</td>\n",
       "      <td>1</td>\n",
       "      <td>13</td>\n",
       "      <td>0</td>\n",
       "      <td>1</td>\n",
       "    </tr>\n",
       "    <tr>\n",
       "      <th>25</th>\n",
       "      <td>14</td>\n",
       "      <td>23</td>\n",
       "      <td>8</td>\n",
       "      <td>6</td>\n",
       "      <td>0</td>\n",
       "      <td>0</td>\n",
       "    </tr>\n",
       "    <tr>\n",
       "      <th>26</th>\n",
       "      <td>17</td>\n",
       "      <td>2</td>\n",
       "      <td>8</td>\n",
       "      <td>1</td>\n",
       "      <td>0</td>\n",
       "      <td>1</td>\n",
       "    </tr>\n",
       "  </tbody>\n",
       "</table>\n",
       "</div>"
      ],
      "text/plain": [
       "    c_Product_ID  c_Source  c_Sales_Agent  c_Location  c_Delivery_Mode  \\\n",
       "18             8        16              4           1                0   \n",
       "19            18         2              5          10                4   \n",
       "24            17        23              1          13                0   \n",
       "25            14        23              8           6                0   \n",
       "26            17         2              8           1                0   \n",
       "\n",
       "    y_Status  \n",
       "18         1  \n",
       "19         1  \n",
       "24         1  \n",
       "25         0  \n",
       "26         1  "
      ]
     },
     "execution_count": 243,
     "metadata": {},
     "output_type": "execute_result"
    }
   ],
   "source": [
    "# All Categorical variables to be Encoded starting from 0\n",
    "from sklearn.preprocessing import LabelEncoder \n",
    "enc = LabelEncoder()\n",
    "for i in AllColumns:\n",
    "    df2.loc[:,[i]] = enc.fit_transform(df2.loc[:,[i]])\n",
    "\n",
    "#Check if encoding is accurate\n",
    "df2.head()"
   ]
  },
  {
   "cell_type": "code",
   "execution_count": 244,
   "metadata": {},
   "outputs": [
    {
     "name": "stdout",
     "output_type": "stream",
     "text": [
      "<class 'pandas.core.frame.DataFrame'>\n",
      "Int64Index: 6574 entries, 18 to 7421\n",
      "Data columns (total 6 columns):\n",
      "c_Product_ID       6574 non-null int64\n",
      "c_Source           6574 non-null int32\n",
      "c_Sales_Agent      6574 non-null int32\n",
      "c_Location         6574 non-null int32\n",
      "c_Delivery_Mode    6574 non-null int32\n",
      "y_Status           6574 non-null int32\n",
      "dtypes: int32(5), int64(1)\n",
      "memory usage: 231.1 KB\n"
     ]
    }
   ],
   "source": [
    "df2.info()"
   ]
  },
  {
   "cell_type": "markdown",
   "metadata": {},
   "source": [
    "# Oulier Analysis\n",
    "\n",
    "### Identify Ouliers: \n",
    "### Outliers are data objects with characteristics that are considerably different than most of the other data objects in the data set. Identified using Sorting, min-max, clusturing, box plot, Std deviation, Distances scatter plots......\n",
    "\n",
    "### All the columns are caregorical so ourlier anlaysis is not require"
   ]
  },
  {
   "cell_type": "code",
   "execution_count": 245,
   "metadata": {},
   "outputs": [],
   "source": [
    "# Find outliers since z statitic can be applied only on continuous data\n",
    "#from scipy import stats\n",
    "#if the outliers were present then, Remove the outliers and save the remaining data in a new data frame - df3\n",
    "#print('before :',df2.shape)\n",
    "#df3 = df2[(np.abs(stats.zscore(df1[ConColList]))<=3).all(axis=1)]\n",
    "#print('after :',df3.shape)\n",
    "\n",
    "#Since about 2000 records are getting deleted, we choose pospone this deletion to next stage."
   ]
  },
  {
   "cell_type": "markdown",
   "metadata": {},
   "source": [
    "# Save 6754 records in the output file for next stage and exit"
   ]
  },
  {
   "cell_type": "code",
   "execution_count": 21,
   "metadata": {},
   "outputs": [],
   "source": [
    "# This stage is over, so save and close the file - 6574 records\n",
    "#df2.to_csv('2_SalesEffect_Cleaned_Encoded.csv',index=False)\n",
    "#df2.to_csv('2_SalesEffect_Cleaned.csv',index=False)"
   ]
  },
  {
   "cell_type": "code",
   "execution_count": null,
   "metadata": {},
   "outputs": [],
   "source": []
  }
 ],
 "metadata": {
  "kernelspec": {
   "display_name": "Python 3",
   "language": "python",
   "name": "python3"
  },
  "language_info": {
   "codemirror_mode": {
    "name": "ipython",
    "version": 3
   },
   "file_extension": ".py",
   "mimetype": "text/x-python",
   "name": "python",
   "nbconvert_exporter": "python",
   "pygments_lexer": "ipython3",
   "version": "3.7.1"
  }
 },
 "nbformat": 4,
 "nbformat_minor": 2
}
